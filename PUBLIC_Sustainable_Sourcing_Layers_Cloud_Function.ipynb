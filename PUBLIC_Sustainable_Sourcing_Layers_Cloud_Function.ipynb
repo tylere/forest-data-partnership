{
  "nbformat": 4,
  "nbformat_minor": 0,
  "metadata": {
    "colab": {
      "provenance": [],
      "toc_visible": true,
      "include_colab_link": true
    },
    "kernelspec": {
      "name": "python3",
      "display_name": "Python 3"
    },
    "language_info": {
      "name": "python"
    }
  },
  "cells": [
    {
      "cell_type": "markdown",
      "metadata": {
        "id": "view-in-github",
        "colab_type": "text"
      },
      "source": [
        "<a href=\"https://colab.research.google.com/github/tylere/forest-data-partnership/blob/sustainable-sourcing-layers-cloud-function/PUBLIC_Sustainable_Sourcing_Layers_Cloud_Function.ipynb\" target=\"_parent\"><img src=\"https://colab.research.google.com/assets/colab-badge.svg\" alt=\"Open In Colab\"/></a>"
      ]
    },
    {
      "cell_type": "markdown",
      "source": [
        "# Sustainable Sourcing Layers in a Cloud Function\n",
        "\n",
        "This notebook demonstrates deployment of Google Cloud functions to get commodity and forest information in a format designed to be integrated to other workflows.\n",
        "\n",
        "The 2025a release of Forest Data Partnership sustainable sourcing layers including palm, rubber, cocoa and coffee are used for commodity information.  For details on how these layers were produced, see [the technical documentation on GitHub](https://github.com/google/forest-data-partnership/tree/main/models).  In particular, see [the limitations](https://github.com/google/forest-data-partnership/tree/main/models#limitations).  See also the [Forest Data Partnership publisher catalog](https://developers.google.com/earth-engine/datasets/publisher/forestdatapartnership) for dataset descriptions.  See [this Earth Engine Code Editor script](https://goo.gle/fodapa-layers) for a demonstration of how choice of thresholds affects the mapped results.\n",
        "\n",
        "Note that users of commercial projects will need to request access through [this form](https://docs.google.com/forms/d/e/1FAIpQLSe7L3eh6t2JIPqEtAQwXwY7ZmW52v8W5vrIi4QN_XYgTNJZLw/viewform).\n",
        "\n",
        "**WARNING**: These demos consume billable resources and may result in charges to your account!"
      ],
      "metadata": {
        "id": "GxxaiImdAlDC"
      }
    },
    {
      "cell_type": "code",
      "source": [
        "# USE YOUR OWN PROJECT!\n",
        "PROJECT = 'forest-data-partnership'\n",
        "REGION = 'us-central1'"
      ],
      "metadata": {
        "id": "enVaKOcn7j5J"
      },
      "execution_count": null,
      "outputs": []
    },
    {
      "cell_type": "code",
      "source": [
        "!gcloud auth login --project {PROJECT} --billing-project {PROJECT} --update-adc"
      ],
      "metadata": {
        "id": "A9l9Q-OOWwGL"
      },
      "execution_count": null,
      "outputs": []
    },
    {
      "cell_type": "markdown",
      "source": [
        "# Create the Cloud Function and deploy it\n",
        "\n",
        "See [this quickstart](https://cloud.google.com/run/docs/quickstarts/functions/deploy-functions-gcloud) for more details.\n",
        "\n",
        "First, make a directory to hold the code needed for the function."
      ],
      "metadata": {
        "id": "AqYQuPVkCeiV"
      }
    },
    {
      "cell_type": "code",
      "source": [
        "!mkdir suso_function"
      ],
      "metadata": {
        "id": "kV6nj-5AYBL6"
      },
      "execution_count": null,
      "outputs": []
    },
    {
      "cell_type": "markdown",
      "source": [
        "## Create functions to get the layers\n",
        "\n",
        "The `writefile` magic command is used to write the contents of the cell into a local directory.  This is the source code that's used to power the Cloud function.  Be sure to change the project ID to use your own project!"
      ],
      "metadata": {
        "id": "mh6CxqsSEKOQ"
      }
    },
    {
      "cell_type": "code",
      "source": [
        "%%writefile suso_function/suso_layers_2025a.py\n",
        "\n",
        "import google.auth\n",
        "import ee\n",
        "\n",
        "# First, initialize.\n",
        "credentials, _ = google.auth.default(\n",
        "    scopes=['https://www.googleapis.com/auth/earthengine']\n",
        ")\n",
        "ee.Initialize(credentials, project='forest-data-partnership', opt_url='https://earthengine-highvolume.googleapis.com')\n",
        "\n",
        "# See https://github.com/google/forest-data-partnership/tree/main/models.\n",
        "COCOA_2025A = ee.ImageCollection(\"projects/forestdatapartnership/assets/cocoa/model_2025a\")\n",
        "COFFEE_2025A = ee.ImageCollection(\"projects/forestdatapartnership/assets/coffee/model_2025a\")\n",
        "PALM_2025A = ee.ImageCollection(\"projects/forestdatapartnership/assets/palm/model_2025a\")\n",
        "RUBBER_2025A = ee.ImageCollection(\"projects/forestdatapartnership/assets/rubber/model_2025a\")\n",
        "\n",
        "filter2020 = ee.Filter.calendarRange(2020, 2020, 'year')\n",
        "filter2023 = ee.Filter.calendarRange(2023, 2023, 'year')\n",
        "\n",
        "cocoa2020 = COCOA_2025A.filter(filter2020).mosaic().rename('cocoa_2020')\n",
        "cocoa2023 = COCOA_2025A.filter(filter2023).mosaic().rename('cocoa_2023')\n",
        "coffee2020 = COFFEE_2025A.filter(filter2020).mosaic().rename('coffee_2020')\n",
        "coffee2023 = COFFEE_2025A.filter(filter2023).mosaic().rename('coffee_2023')\n",
        "palm2020 = PALM_2025A.filter(filter2020).mosaic().rename('palm_2020')\n",
        "palm2023 = PALM_2025A.filter(filter2023).mosaic().rename('palm_2023')\n",
        "rubber2020 = RUBBER_2025A.filter(filter2020).mosaic().rename('rubber_2020')\n",
        "rubber2023 = RUBBER_2025A.filter(filter2023).mosaic().rename('rubber_2023')\n",
        "\n",
        "# See https://eartharxiv.org/repository/view/9085/.\n",
        "nf = ee.ImageCollection(\n",
        "  'projects/computing-engine-190414/assets/biosphere_models/public/forest_typology/natural_forest_2020_v1_0')\n",
        "nf_image = nf.mosaic().divide(255).selfMask()\n",
        "\n",
        "# THRESHOLDS FOR DEMONSTRATION ONLY! Tune these to your needs.\n",
        "thresholds = [\n",
        "    0.5,\n",
        "    0.45,\n",
        "    0.96,\n",
        "    0.89,\n",
        "    0.5\n",
        "  ]\n",
        "\n",
        "# A mini-ensemble of GDM and fodapa data products.\n",
        "ensemble = ee.Image.cat(\n",
        "  nf_image.rename('forest'),\n",
        "  cocoa2020.rename('cocoa'),\n",
        "  coffee2020.rename('coffee'),\n",
        "  palm2020.rename('palm'),\n",
        "  rubber2020.rename('rubber')\n",
        ").unmask(0)\n",
        "\n",
        "# Threshold the probabilities.  THRESHOLDS FOR DEMONSTRATION ONLY!\n",
        "crop_names = ['forest', 'cocoa', 'coffee', 'palm', 'rubber']\n",
        "thresholded = ensemble.select(crop_names).gt(ee.Image(thresholds))\n",
        "\n",
        "# Unclassified means no predicted presence at the specified thresholds.\n",
        "unclassified = thresholded.reduce('sum').eq(0)\n",
        "\n",
        "# Confusion means two or more classes predicted presence.\n",
        "confusion = thresholded.reduce('sum').gt(1).selfMask()\n",
        "\n",
        "def get_suso_layers_2025a() -> ee.Image:\n",
        "    \"\"\"Returns the stack of probability images in separate bands.\"\"\"\n",
        "    return ee.Image.cat(\n",
        "        nf_image.rename('natural_forest_2020'),\n",
        "        cocoa2020.rename('cocoa_probability_2020'),\n",
        "        cocoa2023.rename('cocoa_probability_2023'),\n",
        "        coffee2020.rename('coffee_probability_2020'),\n",
        "        coffee2023.rename('coffee_probability_2023'),\n",
        "        palm2020.rename('palm_probability_2020'),\n",
        "        palm2023.rename('palm_probability_2023'),\n",
        "        rubber2020.rename('rubber_probability_2020'),\n",
        "        rubber2023.rename('rubber_probability_2023'),\n",
        "    )\n",
        "\n",
        "def get_areas_image() -> ee.Image:\n",
        "    \"\"\"Returns data for area calculations in square meters.\"\"\"\n",
        "    return ee.Image.cat(\n",
        "      thresholded,\n",
        "      unclassified.rename('unclassified'),\n",
        "      confusion.rename('confusion')\n",
        "    ).multiply(ee.Image.pixelArea())"
      ],
      "metadata": {
        "id": "zGaYEgGAEKOR"
      },
      "execution_count": null,
      "outputs": []
    },
    {
      "cell_type": "markdown",
      "source": [
        "### Import the code locally for testing\n",
        "\n",
        "Run a few simple sanity checks"
      ],
      "metadata": {
        "id": "W7LSRY5seJ4b"
      }
    },
    {
      "cell_type": "code",
      "source": [
        "import sys\n",
        "sys.path.append('/content/suso_function')\n",
        "import ee\n",
        "from suso_layers_2025a import get_suso_layers_2025a\n",
        "from suso_layers_2025a import get_areas_image\n",
        "# Check the image metadata and bands.\n",
        "print(get_suso_layers_2025a().getInfo())\n",
        "# Check a sample of the image.\n",
        "# See https://code.earthengine.google.com/41a305c1d22aca1de630f5ea46c251a5.\n",
        "test_point = ee.Geometry.Point(104.33, -3.41)\n",
        "print(get_suso_layers_2025a().reduceRegion(\n",
        "    ee.Reducer.mean(), test_point, 10).getInfo())\n",
        "print(get_areas_image().reduceRegion(\n",
        "    ee.Reducer.mean(), test_point, 10).getInfo())"
      ],
      "metadata": {
        "id": "qp9BcQCaKHNN"
      },
      "execution_count": null,
      "outputs": []
    },
    {
      "cell_type": "code",
      "source": [
        "%%writefile suso_function/main.py\n",
        "\n",
        "import json\n",
        "import ee\n",
        "from flask import jsonify\n",
        "import functions_framework\n",
        "import logging\n",
        "import requests\n",
        "\n",
        "import google.auth\n",
        "import google.cloud.logging\n",
        "from google.api_core import retry\n",
        "\n",
        "from suso_layers_2025a import get_areas_image\n",
        "\n",
        "client = google.cloud.logging.Client()\n",
        "client.setup_logging()\n",
        "\n",
        "\n",
        "@retry.Retry()\n",
        "def get_suso_stats(geojson):\n",
        "    \"\"\"Get area stats for the provided geojson polygon.\"\"\"\n",
        "    region = ee.Geometry(geojson)\n",
        "    feature_area = ee.Number(region.area(10))\n",
        "    suso_image = get_areas_image()\n",
        "    # Sum of pixel areas in square meters.\n",
        "    stats = suso_image.reduceRegion(\n",
        "        reducer=ee.Reducer.sum(),\n",
        "        geometry=region,\n",
        "        scale=10\n",
        "    )\n",
        "    # Gini index.\n",
        "    # See https://en.wikipedia.org/wiki/Decision_tree_learning#Gini_impurity.\n",
        "    crop_names = ['forest', 'cocoa', 'coffee', 'palm', 'rubber']\n",
        "    gini = ee.Number(1).subtract(ee.List(\n",
        "        [ee.Number(stats.get(c)).divide(feature_area) for c in crop_names]\n",
        "    ).reduce(ee.Reducer.sum()))\n",
        "    # Update the EE dictionary.\n",
        "    stats = stats.set('gini', gini).set('total_area', feature_area)\n",
        "    # Request the result to the client and return it.\n",
        "    return stats.getInfo()\n",
        "\n",
        "\n",
        "@functions_framework.http\n",
        "def main(request):\n",
        "  \"\"\"Handle requests in a format (geojson) suitable for BigQuery.\"\"\"\n",
        "  credentials, _ = google.auth.default(\n",
        "      scopes=['https://www.googleapis.com/auth/earthengine']\n",
        "  )\n",
        "  ee.Initialize(credentials, project='forest-data-partnership')\n",
        "  try:\n",
        "    replies = []\n",
        "    request_json = request.get_json(silent=True)\n",
        "    calls = request_json['calls']\n",
        "    for call in calls:\n",
        "      geo_json = json.loads(call[0])\n",
        "      try:\n",
        "        logging.info([geo_json])\n",
        "        response = get_suso_stats(geo_json)\n",
        "        logging.info(response)\n",
        "        replies.append(json.dumps(response))\n",
        "      except Exception as e:\n",
        "        logging.error(str(e))\n",
        "        replies.append(json.dumps( { \"errorMessage\": str(e) } ))\n",
        "    return jsonify(replies=replies, status=200, mimetype='application/json')\n",
        "  except Exception as e:\n",
        "    error_string = str(e)\n",
        "    logging.error(error_string)\n",
        "    return jsonify(error=error_string, status=400, mimetype='application/json')"
      ],
      "metadata": {
        "id": "5JqOMsnoYIjl"
      },
      "execution_count": null,
      "outputs": []
    },
    {
      "cell_type": "code",
      "source": [
        "%%writefile suso_function/requirements.txt\n",
        "earthengine-api\n",
        "flask\n",
        "functions-framework\n",
        "google-api-core\n",
        "google-cloud-logging\n",
        "requests"
      ],
      "metadata": {
        "id": "9sHkV9A2YjKi"
      },
      "execution_count": null,
      "outputs": []
    },
    {
      "cell_type": "markdown",
      "source": [
        "## Deploy the function\n",
        "\n",
        "Once this is done, the function is ready to test.  It's helpful to follow the links in the deployment output to monitor and/or debug your Cloud Function.  In particular, see the metrics and logs to help resolve perfpormance issues."
      ],
      "metadata": {
        "id": "7iSMS2zpeZr-"
      }
    },
    {
      "cell_type": "code",
      "source": [
        "!gcloud functions deploy 'suso_function' \\\n",
        "  --gen2 \\\n",
        "  --region={REGION} \\\n",
        "  --project={PROJECT} \\\n",
        "  --runtime=python312 \\\n",
        "  --source='suso_function' \\\n",
        "  --entry-point=main \\\n",
        "  --trigger-http \\\n",
        "  --no-allow-unauthenticated \\\n",
        "  --timeout=300s"
      ],
      "metadata": {
        "id": "3J0PMJP1YMJ8"
      },
      "execution_count": null,
      "outputs": []
    },
    {
      "cell_type": "markdown",
      "source": [
        "## Load WHISP example data\n",
        "\n",
        "Here we will get the WHISP example data from GitHub and convert to an `ee.FeatureCollection`."
      ],
      "metadata": {
        "id": "VKZw9uYPBMKU"
      }
    },
    {
      "cell_type": "code",
      "source": [
        "import json\n",
        "\n",
        "fc_list = !curl https://raw.githubusercontent.com/forestdatapartnership/whisp/main/tests/fixtures/geojson_example.geojson\n",
        "fc_obj = json.loads(\"\\n\".join(fc_list))\n",
        "features = fc_obj['features']\n",
        "feature = features[0]\n",
        "feature"
      ],
      "metadata": {
        "id": "oSFh41jzSSUs"
      },
      "execution_count": null,
      "outputs": []
    },
    {
      "cell_type": "code",
      "source": [
        "# Get the geometries.\n",
        "geoms = [f['geometry'] for f in features]"
      ],
      "metadata": {
        "id": "yhr-zafmmrnA"
      },
      "execution_count": null,
      "outputs": []
    },
    {
      "cell_type": "code",
      "source": [
        "geoms[0]"
      ],
      "metadata": {
        "id": "-jMb6CRxnp2v"
      },
      "execution_count": null,
      "outputs": []
    },
    {
      "cell_type": "code",
      "source": [
        "json.dumps(geoms[0], separators=(',', ':'))"
      ],
      "metadata": {
        "id": "OuVSb3B8tqBY"
      },
      "execution_count": null,
      "outputs": []
    },
    {
      "cell_type": "code",
      "source": [
        "import ee\n",
        "ee.Initialize(project='forest-data-partnership')"
      ],
      "metadata": {
        "id": "eB4ulx9LprLT"
      },
      "execution_count": null,
      "outputs": []
    },
    {
      "cell_type": "code",
      "source": [
        "print(ee.Geometry(geoms[0]).getInfo())"
      ],
      "metadata": {
        "id": "zgY-6zYxp8xr"
      },
      "execution_count": null,
      "outputs": []
    },
    {
      "cell_type": "markdown",
      "source": [
        "## Test the deployed Cloud Function\n",
        "\n",
        "Note that the Compute Engine default service account is being used for authentication to Earth Engine.  For commercial access to the sustainable sourcing layers, ensure that the service account is approved for commercial access ([request form](https://docs.google.com/forms/d/e/1FAIpQLSe7L3eh6t2JIPqEtAQwXwY7ZmW52v8W5vrIi4QN_XYgTNJZLw/viewform))."
      ],
      "metadata": {
        "id": "L5yqDI0lCo5a"
      }
    },
    {
      "cell_type": "code",
      "source": [
        "!gcloud auth print-identity-token"
      ],
      "metadata": {
        "id": "OHumF_OJPR3w"
      },
      "execution_count": null,
      "outputs": []
    },
    {
      "cell_type": "markdown",
      "source": [
        "Make a test request out of the WHISP sample data."
      ],
      "metadata": {
        "id": "GkSe2eq9fViq"
      }
    },
    {
      "cell_type": "code",
      "source": [
        "test_calls = [[json.dumps(g), 'foo_string', 'bar_string'] for g in geoms]\n",
        "test_request = json.dumps({'calls': test_calls}, separators=(',', ':')).join(\"''\")"
      ],
      "metadata": {
        "id": "Azp7rTbJdYuZ"
      },
      "execution_count": null,
      "outputs": []
    },
    {
      "cell_type": "code",
      "source": [
        "test_request"
      ],
      "metadata": {
        "id": "HvDNJ-szfodx"
      },
      "execution_count": null,
      "outputs": []
    },
    {
      "cell_type": "markdown",
      "source": [
        "Make the request (might take a while)."
      ],
      "metadata": {
        "id": "SplWRjNGfbjT"
      }
    },
    {
      "cell_type": "code",
      "source": [
        "responses = !curl -X POST https://{REGION}-{PROJECT}.cloudfunctions.net/suso_function \\\n",
        "  -H \"Authorization: bearer $(gcloud auth print-identity-token)\" \\\n",
        "  -H \"Content-Type: application/json\" \\\n",
        "  -d {test_request}"
      ],
      "metadata": {
        "id": "aj7W0sTSdePQ"
      },
      "execution_count": null,
      "outputs": []
    },
    {
      "cell_type": "markdown",
      "source": [
        "### Inspect the output of the function\n",
        "\n",
        "The keys are useful for making the SQL to use in BigQuery."
      ],
      "metadata": {
        "id": "VV3AoeeiR5oT"
      }
    },
    {
      "cell_type": "code",
      "source": [
        "print(len(responses))\n",
        "response = responses[0]\n",
        "response_json = json.loads(response)\n",
        "replies = response_json['replies']\n",
        "print(len(replies))\n",
        "reply_0 = replies[0]\n",
        "reply_0_json = json.loads(reply_0)\n",
        "reply_0_json.keys()"
      ],
      "metadata": {
        "id": "f8wkbISu2AbP"
      },
      "execution_count": null,
      "outputs": []
    },
    {
      "cell_type": "markdown",
      "source": [
        "# Connect to the Cloud Function from BigQuery"
      ],
      "metadata": {
        "id": "1p3MKGcXDAEr"
      }
    },
    {
      "cell_type": "markdown",
      "source": [
        "Follow [this BigQuery guide](https://cloud.google.com/bigquery/docs/remote-functions#create_a_remote_function) to set up a connection to the Cloud Function deployed previously.  Once the connection is set up, create a function to use in queries.  Run this SQL in BQ, replacing with your project ID.\n",
        "\n",
        "```\n",
        "CREATE OR REPLACE FUNCTION `forest-data-partnership.WHISP_DEMO.suso_function`(geom STRING) RETURNS STRING\n",
        "REMOTE WITH CONNECTION `forest-data-partnership.us-central1.suso_function`\n",
        "OPTIONS (\n",
        "  endpoint = 'https://us-central1-forest-data-partnership.cloudfunctions.net/suso_function',\n",
        "  max_batching_rows = 1\n",
        ")\n",
        "```"
      ],
      "metadata": {
        "id": "rb7bdkCUDExH"
      }
    },
    {
      "cell_type": "markdown",
      "source": [
        "Once that's done, you can use your `suso_function` function in queries!  The keys extracted from the test response are useful for building the `SQL` that represents this query.  Note that the input table must have a geometry column and that the geometries are passed to the function as GeoJSON strings:"
      ],
      "metadata": {
        "id": "wjmlGTs2TS6u"
      }
    },
    {
      "cell_type": "code",
      "source": [
        "SQL_TEMPLATE = [f\"JSON_EXTRACT_SCALAR(json_data, '$.{key}') AS {key},\" for key in reply_0_json.keys()]\n",
        "SQL_TEMPLATE = ['SELECT', 'geometry,'] + SQL_TEMPLATE\n",
        "SQL_TEMPLATE = SQL_TEMPLATE + [\n",
        "    'FROM',\n",
        "    '`forest-data-partnership.WHISP_DEMO.input_examples`,',\n",
        "    'UNNEST([SAFE.PARSE_JSON(`forest-data-partnership.WHISP_DEMO`.suso_function(ST_ASGEOJSON(geometry)))]) AS json_data']\n",
        "\n",
        "print('\\n'.join(SQL_TEMPLATE))"
      ],
      "metadata": {
        "id": "0E1bHVd_McWu"
      },
      "execution_count": null,
      "outputs": []
    },
    {
      "cell_type": "markdown",
      "source": [
        "# Next Steps\n",
        "\n",
        "- Take that `SQL` blob over to BigQuery and run it!\n",
        "- Try the [WHISP Cloud Function demo notebook](https://colab.research.google.com/drive/1NCaPOoxqmAEWb8c8V0kEHVunbW1yHVkL?resourcekey=0-HJ3ou94AbjdKkkvaPW1Jtw&usp=sharing)."
      ],
      "metadata": {
        "id": "7gFrfgf4T1-r"
      }
    }
  ]
}