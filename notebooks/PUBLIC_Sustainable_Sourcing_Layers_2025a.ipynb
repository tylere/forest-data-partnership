{
  "nbformat": 4,
  "nbformat_minor": 0,
  "metadata": {
    "colab": {
      "provenance": []
    },
    "kernelspec": {
      "name": "python3",
      "display_name": "Python 3"
    },
    "language_info": {
      "name": "python"
    }
  },
  "cells": [
    {
      "cell_type": "markdown",
      "source": [
        "# Sustainable Sourcing Layers 2025a visualization\n",
        "\n",
        "This notebook demonstrates how to access, analyze and visualize datasets developed by Google, FAO and others in support of the [Forest Data Partnership](https://www.forestdatapartnership.org/).  In particular, explore the 2025a release of Forest Data Partnership sustainable sourcing layers including palm, rubber, cocoa and coffee.  Demonstrations below include:\n",
        "\n",
        "- Visualize probability layers.\n",
        "- Visualize data coverage (masks).\n",
        "- Visualize a mini-ensemble of thresholded probabiliites.\n",
        "- Get statistics in image regions from the Earth Engine Python client.\n",
        "\n",
        "For details on how these layers were produced, see [the technical documentation on GitHub](https://github.com/google/forest-data-partnership/tree/main/models).  In particular, see [the limitations](https://github.com/google/forest-data-partnership/tree/main/models#limitations).  See also the [Forest Data Partnership publisher catalog](https://developers.google.com/earth-engine/datasets/publisher/forestdatapartnership) for dataset descriptions.  See [this Earth Engine Code Editor script](https://goo.gle/fodapa-layers) for a demonstration of how choice of thresholds affects the mapped results.\n",
        "\n",
        "Note that users of commercial projects will need to request access through [this form](https://docs.google.com/forms/d/e/1FAIpQLSe7L3eh6t2JIPqEtAQwXwY7ZmW52v8W5vrIi4QN_XYgTNJZLw/viewform).\n",
        "\n",
        "\n",
        "**WARNING**: These demos consume billable resources and may result in charges to your account!"
      ],
      "metadata": {
        "id": "TWt4ejq-0mCi"
      }
    },
    {
      "cell_type": "markdown",
      "source": [
        "## Setup and Auth\n",
        "\n",
        "Import the required libraries.  Authenticate and `Initialize()` Earth Engine."
      ],
      "metadata": {
        "id": "Gj62S5id0r0h"
      }
    },
    {
      "cell_type": "code",
      "source": [
        "import ee\n",
        "import geemap\n",
        "from google.api_core import exceptions, retry\n",
        "import google.auth\n",
        "from google.colab import auth\n",
        "\n",
        "print('Using EE version: ', ee.__version__)\n",
        "print('Using geemap version: ', geemap.__version__)"
      ],
      "metadata": {
        "colab": {
          "base_uri": "https://localhost:8080/",
          "height": 52
        },
        "id": "6yGJknk3ff0N",
        "outputId": "fa19abfb-7db5-402b-9f33-f15bbc5f626a"
      },
      "execution_count": 1,
      "outputs": [
        {
          "output_type": "stream",
          "name": "stdout",
          "text": [
            "Using EE version:  1.5.24\n",
            "Using geemap version:  0.35.3\n"
          ]
        }
      ]
    },
    {
      "cell_type": "code",
      "execution_count": null,
      "metadata": {
        "id": "DvrekbF0zGNC"
      },
      "outputs": [],
      "source": [
        "# Replace with your project name!\n",
        "PROJECT = 'forest-data-partnership'\n",
        "# Replace with your writable bucket!\n",
        "BUCKET = 'g-forest-data'\n",
        "\n",
        "auth.authenticate_user()\n",
        "\n",
        "credentials, _ = google.auth.default(\n",
        "    scopes=[\n",
        "        \"https://www.googleapis.com/auth/cloud-platform\",\n",
        "        \"https://www.googleapis.com/auth/earthengine\",\n",
        "    ]\n",
        ")\n",
        "ee.Initialize(\n",
        "    credentials,\n",
        "    project=PROJECT,\n",
        "    opt_url=\"https://earthengine-highvolume.googleapis.com\",\n",
        ")"
      ]
    },
    {
      "cell_type": "markdown",
      "source": [
        "## Forest Data Partnership Sustainable Sourcing Layers\n",
        "\n",
        "See the [Forest Data Partnership publisher catalog](https://developers.google.com/earth-engine/datasets/publisher/forestdatapartnership) for dataset descriptions."
      ],
      "metadata": {
        "id": "BbQBZX2U00U5"
      }
    },
    {
      "cell_type": "code",
      "source": [
        "cocoa = ee.ImageCollection(\"projects/forestdatapartnership/assets/cocoa/model_2025a\")\n",
        "coffee = ee.ImageCollection(\"projects/forestdatapartnership/assets/coffee/model_2025a\")\n",
        "palm = ee.ImageCollection(\"projects/forestdatapartnership/assets/palm/model_2025a\")\n",
        "rubber = ee.ImageCollection(\"projects/forestdatapartnership/assets/rubber/model_2025a\")"
      ],
      "metadata": {
        "id": "nJJIibUQfvmb"
      },
      "execution_count": null,
      "outputs": []
    },
    {
      "cell_type": "markdown",
      "source": [
        "## Google Deep Mind Natural Forest\n",
        "\n",
        "See [Neumann et al. 2025](https://eartharxiv.org/repository/view/9085/) for details."
      ],
      "metadata": {
        "id": "NCpBXLvZ09rZ"
      }
    },
    {
      "cell_type": "code",
      "source": [
        "nf = ee.ImageCollection(\n",
        "  'projects/computing-engine-190414/assets/biosphere_models/public/forest_typology/natural_forest_2020_v1_0')\n",
        "nf_image = nf.mosaic().divide(255).selfMask()"
      ],
      "metadata": {
        "id": "bH4lC0ebwXsC"
      },
      "execution_count": null,
      "outputs": []
    },
    {
      "cell_type": "markdown",
      "source": [
        "## Visualize with geemap\n",
        "\n",
        "Note that the probability layers are visualized using default values.  The data masks show coverage, or where data are available.  Toggle the display of these layers in the `geemp` `Map`.  See [the `geemap` docs](https://geemap.org/) for more information."
      ],
      "metadata": {
        "id": "L4XHMq2G1Jy_"
      }
    },
    {
      "cell_type": "code",
      "source": [
        "# Center over Indonesia.\n",
        "Map = geemap.Map(center=(-3.416, 104.3318), zoom=9)"
      ],
      "metadata": {
        "id": "BUKWP2uRwReA"
      },
      "execution_count": null,
      "outputs": []
    },
    {
      "cell_type": "code",
      "source": [
        "# Filter the datasets by date and add to the Map.\n",
        "filter2020 = ee.Filter.calendarRange(2020, 2020, 'year')\n",
        "filter2023 = ee.Filter.calendarRange(2023, 2023, 'year')\n",
        "\n",
        "cocoa2020 = cocoa.filter(filter2020).mosaic()\n",
        "Map.addLayer(\n",
        "    cocoa2020.selfMask(), {'min': 0.5, 'max': 1, 'palette': 'blue'}, 'cocoa 2020', False)\n",
        "\n",
        "cocoa2023 = cocoa.filter(filter2023).mosaic()\n",
        "Map.addLayer(\n",
        "    cocoa2023.selfMask(), {'min': 0.5, 'max': 1, 'palette': 'blue'}, 'cocoa 2023', False)\n",
        "\n",
        "coffee2020 = coffee.filter(filter2020).mosaic()\n",
        "Map.addLayer(\n",
        "    coffee2020.selfMask(), {'min': 0.5, 'max': 1, 'palette': 'yellow'}, 'coffee 2020', False)\n",
        "\n",
        "coffee2023 = coffee.filter(filter2023).mosaic()\n",
        "Map.addLayer(\n",
        "    coffee2023.selfMask(), {'min': 0.5, 'max': 1, 'palette': 'yellow'}, 'coffee 2023', False)\n",
        "\n",
        "palm2020 = palm.filter(filter2020).mosaic()\n",
        "Map.addLayer(\n",
        "    palm2020.selfMask(), {'min': 0.5, 'max': 1, 'palette': 'purple'}, 'palm 2020', False)\n",
        "\n",
        "palm2023 = palm.filter(filter2023).mosaic()\n",
        "Map.addLayer(\n",
        "    palm2023.selfMask(), {'min': 0.5, 'max': 1, 'palette': 'purple'}, 'palm 2023', False )\n",
        "\n",
        "rubber2020 = rubber.filter(filter2020).mosaic()\n",
        "Map.addLayer(\n",
        "    rubber2020.selfMask(), {'min': 0.5, 'max': 1, 'palette': 'red'}, 'rubber 2020', False)\n",
        "\n",
        "rubber2023 = rubber.filter(filter2023).mosaic()\n",
        "Map.addLayer(\n",
        "    rubber2023.selfMask(), {'min': 0.5, 'max': 1, 'palette': 'red'}, 'rubber 2023', False)\n",
        "\n",
        "# Coverage, or where there are data for a given year.\n",
        "p2023mask = palm2023.mask()\n",
        "r2023mask = rubber2023.mask()\n",
        "c2023mask = cocoa2023.mask()\n",
        "j2023mask = coffee2023.mask()\n",
        "Map.addLayer(p2023mask.selfMask(), {'palette': 'purple'}, 'palm 2023 coverage', False)\n",
        "Map.addLayer(r2023mask.selfMask(), {'palette': 'red'}, 'rubber 2023 coverage', False)\n",
        "Map.addLayer(c2023mask.selfMask(), {'palette': 'blue'}, 'cocoa 2023 coverage', False)\n",
        "Map.addLayer(j2023mask.selfMask(), {'palette': 'yellow'}, 'coffee 2023 coverage', False)\n",
        "\n",
        "# Intersection of the coverage masks in 2020.\n",
        "intersection_2020 = ee.ImageCollection.fromImages([\n",
        "  palm2020.mask(), rubber2020.mask(), cocoa2020.mask(), coffee2020.mask()]).min()\n",
        "Map.addLayer(intersection_2020, {}, '2020 Coverage', False)"
      ],
      "metadata": {
        "id": "z8SnsM3xwhVt"
      },
      "execution_count": null,
      "outputs": []
    },
    {
      "cell_type": "code",
      "source": [
        "Map"
      ],
      "metadata": {
        "id": "l2ueLRUqx8ry"
      },
      "execution_count": null,
      "outputs": []
    },
    {
      "cell_type": "markdown",
      "source": [
        "## Create a mini-ensemble\n",
        "\n",
        "Apply some thresholds to the data.  The values chosen here **are for demonstration purposes only** and should be tuned for any particular geographic region or use case.  See [the technical documentation on GitHub](https://github.com/google/forest-data-partnership/tree/main/models) for details on the estimated accuracy at different thresholds.  See [this Earth Engine Code Editor script](https://goo.gle/fodapa-layers) for a demonstration of how choice of thresholds affects the mapped results."
      ],
      "metadata": {
        "id": "Xh_FsCiyD39c"
      }
    },
    {
      "cell_type": "code",
      "source": [
        "# Arbitrary thresholds.  Tune these to your needs!\n",
        "thresholds = [\n",
        "    0.5,\n",
        "    0.45,\n",
        "    0.96,\n",
        "    0.89,\n",
        "    0.5\n",
        "  ]\n",
        "\n",
        "# A mini-ensemble of GDM and fodapa data products.\n",
        "ensemble = ee.Image.cat(\n",
        "  nf_image.rename('forest'),\n",
        "  cocoa2020.rename('cocoa'),\n",
        "  coffee2020.rename('coffee'),\n",
        "  palm2020.rename('palm'),\n",
        "  rubber2020.rename('rubber')\n",
        ").unmask(0)\n",
        "\n",
        "\n",
        "# Threshold the probabilities.\n",
        "crop_names = ['forest', 'cocoa', 'coffee', 'palm', 'rubber']\n",
        "thresholded = ensemble.select(crop_names).gt(ee.Image(thresholds))\n",
        "\n",
        "# Unclassified means no predicted presence at the specified thresholds.\n",
        "unclassified = thresholded.reduce('sum').eq(0)\n",
        "\n",
        "classVis = {\n",
        "  'min': 0,\n",
        "  'max': 4,\n",
        "  'palette': ['green', 'blue', 'yellow', 'purple', 'red']\n",
        "}\n",
        "label = (\n",
        "    thresholded\n",
        "    .toArray()\n",
        "    .arrayArgmax()\n",
        "    .arrayGet(0)\n",
        "    .rename('classIndex')\n",
        "    .updateMask(unclassified.Not()))\n",
        "\n",
        "# Confusion means two or more classes predicted presence.\n",
        "confusion = thresholded.reduce('sum').gt(1).selfMask()\n",
        "\n",
        "# Water mask from WorldCover\n",
        "worldcover = ee.ImageCollection('ESA/WorldCover/v200')\n",
        "wc_water_class = ee.Image(80)\n",
        "water = (\n",
        "      worldcover.mosaic()\n",
        "      .unmask(wc_water_class, sameFootprint=False)\n",
        "      .eq(wc_water_class)\n",
        "      .selfMask()\n",
        ")\n",
        "\n",
        "# Create a mosaic to display the mini-ensemble.\n",
        "ensemble_map = ee.ImageCollection.fromImages([\n",
        "  unclassified.selfMask().visualize(palette='gray'),\n",
        "  label.visualize(**classVis),\n",
        "  confusion.visualize(palette='white'),\n",
        "  water.visualize(palette='navy')\n",
        "]).mosaic()"
      ],
      "metadata": {
        "id": "z1vgEANl0BNd"
      },
      "execution_count": null,
      "outputs": []
    },
    {
      "cell_type": "code",
      "source": [
        "# Center over Indonesia.\n",
        "Map2 = geemap.Map(center=(-3.416, 104.3318), zoom=9)\n",
        "gini = ee.Image(1).subtract(ensemble.multiply(ensemble).reduce('sum'))\n",
        "Map2.addLayer(gini, {}, 'gini')\n",
        "Map2.addLayer(ensemble_map, {}, 'Ensemble Maps')"
      ],
      "metadata": {
        "id": "C6NQViZ2J0VO"
      },
      "execution_count": null,
      "outputs": []
    },
    {
      "cell_type": "code",
      "source": [
        "Map2"
      ],
      "metadata": {
        "id": "r-tJ8XGtKgEb"
      },
      "execution_count": null,
      "outputs": []
    },
    {
      "cell_type": "markdown",
      "source": [
        "## Statistics of image regions"
      ],
      "metadata": {
        "id": "9ooj-A7k8GRa"
      }
    },
    {
      "cell_type": "markdown",
      "source": [
        "### Load WHISP example data\n",
        "\n",
        "Here we will get the WHISP example data from GitHub and convert to an `ee.FeatureCollection`."
      ],
      "metadata": {
        "id": "VKZw9uYPBMKU"
      }
    },
    {
      "cell_type": "code",
      "source": [
        "import json\n",
        "\n",
        "fc_list = !curl https://raw.githubusercontent.com/forestdatapartnership/whisp/main/tests/fixtures/geojson_example.geojson\n",
        "fc_obj = json.loads(\"\\n\".join(fc_list))\n",
        "fc = ee.FeatureCollection(fc_obj)"
      ],
      "metadata": {
        "id": "oSFh41jzSSUs"
      },
      "execution_count": null,
      "outputs": []
    },
    {
      "cell_type": "markdown",
      "source": [
        "### Get area stats using Earth Engine\n",
        "\n",
        "Compute [Gini impurity](https://en.wikipedia.org/wiki/Decision_tree_learning#Gini_impurity) on the result, a standard index for understanding node impurity in descision tree contstruction."
      ],
      "metadata": {
        "id": "peNp3R9tGKpJ"
      }
    },
    {
      "cell_type": "code",
      "source": [
        "def get_stats(feature):\n",
        "  \"\"\"Add commodity area stats to a feature.  For demonstration only!\"\"\"\n",
        "  feature_area = ee.Number(feature.geometry().area(10))\n",
        "\n",
        "  stats = ee.Image.cat(\n",
        "      thresholded,\n",
        "      confusion.rename('confusion'),\n",
        "      unclassified.rename('unclassified')\n",
        "  ).multiply(ee.Image.pixelArea()).reduceRegion(\n",
        "    reducer=ee.Reducer.sum(),\n",
        "    geometry=feature.geometry(),\n",
        "    scale=10,\n",
        "  )\n",
        "\n",
        "  gini = ee.Number(1).subtract(ee.List(\n",
        "      [ee.Number(stats.get(c)).divide(feature_area) for c in crop_names]\n",
        "  ).reduce(ee.Reducer.sum()))\n",
        "\n",
        "  stats = stats.set({'gini': gini, 'total_area': feature_area})\n",
        "\n",
        "  # Get rid of other attributes.\n",
        "  return feature.select([]).set(stats)"
      ],
      "metadata": {
        "id": "ADVqPr8YtTdK"
      },
      "execution_count": null,
      "outputs": []
    },
    {
      "cell_type": "code",
      "source": [
        "pprint(fc.map(get_stats).getInfo())"
      ],
      "metadata": {
        "id": "ksMCw1UKUXNl"
      },
      "execution_count": null,
      "outputs": []
    },
    {
      "cell_type": "markdown",
      "source": [
        "## Next steps\n",
        "\n",
        "- Check the [Suso data Cloud Function demo notebook](https://colab.research.google.com/drive/1cQyqNaiK3nP65I-LunRkQyLLXTakaYs9?resourcekey=0-YAkoE8VC9drgqa1PE6uAGA&usp=sharing)\n",
        "- Check the [WHISP Cloud Function demo notebook](https://colab.research.google.com/drive/1NCaPOoxqmAEWb8c8V0kEHVunbW1yHVkL?resourcekey=0-HJ3ou94AbjdKkkvaPW1Jtw&usp=sharing)"
      ],
      "metadata": {
        "id": "fc-hmLAeGtAY"
      }
    }
  ]
}