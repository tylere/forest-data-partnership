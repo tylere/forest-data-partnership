{
  "cells": [
    {
      "cell_type": "markdown",
      "metadata": {
        "id": "KoxarHascAIB"
      },
      "source": [
        "# Checkout the cloud function source code\n",
        "\n",
        "Cloud functions are defined from a collection of files in a [source directory](https://cloud.google.com/run/docs/write-functions#directory_structure). This section downloads cloud function definition files to Colab's storage using git's [sparse-checkout](https://git-scm.com/docs/git-sparse-checkout)."
      ]
    },
    {
      "cell_type": "code",
      "execution_count": null,
      "metadata": {
        "id": "n8nuSnu2U_hQ"
      },
      "outputs": [],
      "source": [
        "%%bash\n",
        "is_git_repo() {\n",
        "    git rev-parse --is-inside-work-tree >/dev/null 2>&1\n",
        "}\n",
        "\n",
        "if is_git_repo; then\n",
        "  echo \"This is already a git repository. No action was taken.\n",
        "else\n",
        "  echo \"This is not a git repository. Initiating sparse checkout...\"\n",
        "  repo_url=https://github.com/tylere/forest-data-partnership.git\n",
        "  branch=cloud-function-folder\n",
        "  cloud_function_source_dir=cloud_functions/sustainable_sourcing_layers\n",
        "\n",
        "  # Use git sparse-checkout\n",
        "  git config --global init.defaultBranch $branch\n",
        "  git init\n",
        "  git remote add origin $repo_url\n",
        "  git sparse-checkout init --cone\n",
        "  git sparse-checkout set $cloud_function_source_dir\n",
        "  git pull origin $branch\n",
        "fi"
      ]
    },
    {
      "cell_type": "code",
      "execution_count": null,
      "metadata": {
        "id": "dUTBm0ETVj3u"
      },
      "outputs": [],
      "source": []
    }
  ],
  "metadata": {
    "colab": {
      "provenance": []
    },
    "kernelspec": {
      "display_name": "default",
      "language": "python",
      "name": "python3"
    },
    "language_info": {
      "codemirror_mode": {
        "name": "ipython",
        "version": 3
      },
      "file_extension": ".py",
      "mimetype": "text/x-python",
      "name": "python",
      "nbconvert_exporter": "python",
      "pygments_lexer": "ipython3",
      "version": "3.11.13"
    }
  },
  "nbformat": 4,
  "nbformat_minor": 0
}
