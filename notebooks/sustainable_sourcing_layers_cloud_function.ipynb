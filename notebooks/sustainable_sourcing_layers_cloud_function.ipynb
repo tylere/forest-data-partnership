{
  "cells": [
    {
      "cell_type": "markdown",
      "source": [
        "# Sustainable Sourcing Layers in a Cloud Function\n",
        "\n",
        "This notebook demonstrates deployment of Google Cloud functions to get commodity and forest information in a format designed to be integrated to other workflows.\n",
        "\n",
        "The 2025a release of Forest Data Partnership sustainable sourcing layers including palm, rubber, cocoa and coffee are used for commodity information.  For details on how these layers were produced, see [the technical documentation on GitHub](https://github.com/google/forest-data-partnership/tree/main/models).  In particular, see [the limitations](https://github.com/google/forest-data-partnership/tree/main/models#limitations).  See also the [Forest Data Partnership publisher catalog](https://developers.google.com/earth-engine/datasets/publisher/forestdatapartnership) for dataset descriptions.  See [this Earth Engine Code Editor script](https://goo.gle/fodapa-layers) for a demonstration of how choice of thresholds affects the mapped results.\n",
        "\n",
        "Note that users of commercial projects will need to request access to the Forest Data Partnership datasets with [this form](https://docs.google.com/forms/d/e/1FAIpQLSe7L3eh6t2JIPqEtAQwXwY7ZmW52v8W5vrIi4QN_XYgTNJZLw/viewform).\n",
        "\n",
        "**WARNING**: These demos consume billable resources and may result in charges to your account!"
      ],
      "metadata": {
        "id": "RDYfoFn6e0G3"
      }
    },
    {
      "cell_type": "markdown",
      "metadata": {
        "id": "KoxarHascAIB"
      },
      "source": [
        "# Checkout the cloud function source code\n",
        "\n",
        "Cloud functions are defined from a collection of files in a [source directory](https://cloud.google.com/run/docs/write-functions#directory_structure). This section downloads cloud function definition files to Colab's storage using git's [sparse-checkout](https://git-scm.com/docs/git-sparse-checkout)."
      ]
    },
    {
      "cell_type": "code",
      "execution_count": null,
      "metadata": {
        "id": "n8nuSnu2U_hQ"
      },
      "outputs": [],
      "source": [
        "%%bash\n",
        "is_git_repo() {\n",
        "    git rev-parse --is-inside-work-tree >/dev/null 2>&1\n",
        "}\n",
        "\n",
        "if is_git_repo; then\n",
        "  echo \"This is already a git repository. No action was taken.\"\n",
        "else\n",
        "  echo \"This is not a git repository. Initiating sparse checkout...\"\n",
        "  repo_url=https://github.com/tylere/forest-data-partnership.git\n",
        "  branch=cloud-function-folder\n",
        "  cloud_function_source_dir=cloud_functions/sustainable_sourcing_layers\n",
        "\n",
        "  # Use git sparse-checkout\n",
        "  git config --global init.defaultBranch $branch\n",
        "  git init\n",
        "  git remote add origin $repo_url\n",
        "  git sparse-checkout init --cone\n",
        "  git sparse-checkout set $cloud_function_source_dir\n",
        "  git pull origin $branch\n",
        "fi"
      ]
    },
    {
      "cell_type": "markdown",
      "source": [
        "# Setup and Auth\n",
        "\n",
        "Import the Python libraries used by this notebook."
      ],
      "metadata": {
        "id": "vbXOEZtIe7tb"
      }
    },
    {
      "cell_type": "code",
      "execution_count": null,
      "metadata": {
        "id": "dUTBm0ETVj3u"
      },
      "outputs": [],
      "source": [
        "import importlib\n",
        "import json\n",
        "import os\n",
        "from pprint import pprint\n",
        "import sys\n",
        "\n",
        "import ee\n",
        "from google.colab import userdata\n",
        "\n",
        "print('Using EE version: ', ee.__version__)"
      ]
    },
    {
      "cell_type": "markdown",
      "source": [
        "This notebook assumes that the GCP project and compute region information are stored as Colab secrets. This avoids storing user-specific and potentially sensitive information in the notebook. See this guide for information on how to use Colab secrets."
      ],
      "metadata": {
        "id": "iYkUyHrQfFLF"
      }
    },
    {
      "cell_type": "code",
      "source": [
        "# Load from Colab secrets\n",
        "PROJECT = userdata.get('EE_PROJECT_ID')\n",
        "REGION = userdata.get('GCP_REGION')\n",
        "\n",
        "# Store as environment variables\n",
        "os.environ['PROJECT'] = PROJECT\n",
        "os.environ['REGION'] = REGION"
      ],
      "metadata": {
        "id": "isACEYGufCQL"
      },
      "execution_count": null,
      "outputs": []
    },
    {
      "cell_type": "markdown",
      "source": [
        "Authenticate using the Google Cloud CLI (gcloud)."
      ],
      "metadata": {
        "id": "gadkSfi5fLrJ"
      }
    },
    {
      "cell_type": "code",
      "source": [
        "!gcloud auth login --project {PROJECT} --billing-project {PROJECT} --update-adc"
      ],
      "metadata": {
        "id": "M6Y6XiiJfIPq"
      },
      "execution_count": null,
      "outputs": []
    },
    {
      "cell_type": "markdown",
      "source": [
        "# Load WHISP example data\n",
        "\n",
        "We will test out the Cloud Run function using some example data from\n",
        "[WHISP](xhttps://openforis.org/solutions/whisp/).\n",
        "\n",
        "Start by downloading some WHISP example data from GitHub and convert it to an `ee.FeatureCollection`."
      ],
      "metadata": {
        "id": "8VPkk3LBkGhf"
      }
    },
    {
      "cell_type": "code",
      "source": [
        "fc_list = !curl https://raw.githubusercontent.com/forestdatapartnership/whisp/main/tests/fixtures/geojson_example.geojson\n",
        "fc_obj = json.loads(\"\\n\".join(fc_list))\n",
        "features = fc_obj['features']"
      ],
      "metadata": {
        "id": "bPd9lD_bkQkW"
      },
      "execution_count": null,
      "outputs": []
    },
    {
      "cell_type": "markdown",
      "source": [
        "Print an example feature."
      ],
      "metadata": {
        "id": "d4cKpH8RkcPr"
      }
    },
    {
      "cell_type": "code",
      "source": [
        "features[0]"
      ],
      "metadata": {
        "id": "dlRGneG0kdCM"
      },
      "execution_count": null,
      "outputs": []
    },
    {
      "cell_type": "markdown",
      "source": [
        "Extract the feature geometries."
      ],
      "metadata": {
        "id": "vz10es_pkwNJ"
      }
    },
    {
      "cell_type": "code",
      "source": [
        "geoms = [f['geometry'] for f in features]"
      ],
      "metadata": {
        "id": "_1lziQOukw6C"
      },
      "execution_count": null,
      "outputs": []
    },
    {
      "cell_type": "markdown",
      "source": [
        "Print an example geometry.\n"
      ],
      "metadata": {
        "id": "pfKL-XBYkzY1"
      }
    },
    {
      "cell_type": "code",
      "source": [
        "geoms[0]"
      ],
      "metadata": {
        "id": "1KTGwy3uk5UT"
      },
      "execution_count": null,
      "outputs": []
    },
    {
      "cell_type": "markdown",
      "source": [
        "# Test the code\n",
        "\n",
        "Import the code and run a few tests."
      ],
      "metadata": {
        "id": "R4cAROMhhCyX"
      }
    },
    {
      "cell_type": "code",
      "source": [
        "from cloud_functions.sustainable_sourcing_layers import suso_layers_2025a\n",
        "\n",
        "# Check the image metadata and bands.\n",
        "layers = suso_layers_2025a.get_suso_layers_2025a()\n",
        "pprint(layers.getInfo())"
      ],
      "metadata": {
        "id": "rquPJFwzlf1x"
      },
      "execution_count": null,
      "outputs": []
    },
    {
      "cell_type": "markdown",
      "source": [
        "Sample the layers at a specified point."
      ],
      "metadata": {
        "id": "qApFqpfHmfO4"
      }
    },
    {
      "cell_type": "code",
      "source": [
        "test_point = ee.Geometry.Point(104.33, -3.41)\n",
        "pprint(layers.reduceRegion(ee.Reducer.mean(), test_point, 10).getInfo())"
      ],
      "metadata": {
        "id": "FBk5a_V8hI8l"
      },
      "execution_count": null,
      "outputs": []
    },
    {
      "cell_type": "markdown",
      "source": [
        "Get the class areas at a specific point"
      ],
      "metadata": {
        "id": "xjsDiE8xnCzw"
      }
    },
    {
      "cell_type": "code",
      "source": [
        "print(\n",
        "    suso_layers_2025a\n",
        "        .get_areas_image()\n",
        "        .reduceRegion(\n",
        "            ee.Reducer.mean(),\n",
        "            test_point,\n",
        "            10\n",
        "          ).getInfo()\n",
        ")"
      ],
      "metadata": {
        "id": "-2wJQYcYlGd3"
      },
      "execution_count": null,
      "outputs": []
    },
    {
      "cell_type": "markdown",
      "source": [
        "Get statistics within an example geometry."
      ],
      "metadata": {
        "id": "r1SnGr7_nR5s"
      }
    },
    {
      "cell_type": "code",
      "source": [
        "suso_layers_2025a.get_suso_stats(geojson=geoms[0])"
      ],
      "metadata": {
        "id": "5a89qkMeiMqQ"
      },
      "execution_count": null,
      "outputs": []
    },
    {
      "cell_type": "markdown",
      "source": [
        "# Deploy Cloud Run function\n",
        "\n",
        "See [this quickstart](https://cloud.google.com/run/docs/quickstarts/functions/deploy-functions-gcloud) for details on deploying Cloud Run functions.\n",
        "\n",
        "The Cloud Run function configuration files are stored in the folder `cloud_functions/sustainable_sourcing_layers`."
      ],
      "metadata": {
        "id": "f8DwusJvnk0f"
      }
    },
    {
      "cell_type": "markdown",
      "source": [
        "Inspect the list of Python packages required to run the Cloud Run function."
      ],
      "metadata": {
        "id": "2VLBq9bwh1bQ"
      }
    },
    {
      "cell_type": "code",
      "source": [
        "%cat cloud_functions/sustainable_sourcing_layers/requirements.txt"
      ],
      "metadata": {
        "id": "6gJ5JXfbfOKQ"
      },
      "execution_count": null,
      "outputs": []
    },
    {
      "cell_type": "markdown",
      "source": [
        "## Deploy the Cloud Run function\n",
        "\n",
        "Use the following `gcloud` command to deploy the Cloud Run function.\n",
        "\n",
        "*Note that the Compute Engine default service account is being used for authentication to Earth Engine.  For commercial access to the sustainable sourcing layers, ensure that the service account is approved for commercial access ([request form](https://docs.google.com/forms/d/e/1FAIpQLSe7L3eh6t2JIPqEtAQwXwY7ZmW52v8W5vrIi4QN_XYgTNJZLw/viewform)).*"
      ],
      "metadata": {
        "id": "Lur5Fe7SoyIy"
      }
    },
    {
      "cell_type": "code",
      "source": [
        "!gcloud functions deploy 'suso_function' \\\n",
        "  --gen2 \\\n",
        "  --region={REGION} \\\n",
        "  --project={PROJECT} \\\n",
        "  --runtime=python312 \\\n",
        "  --source='cloud_functions/sustainable_sourcing_layers' \\\n",
        "  --set-env-vars PROJECT={PROJECT} \\\n",
        "  --entry-point=main \\\n",
        "  --trigger-http \\\n",
        "  --no-allow-unauthenticated \\\n",
        "  --timeout=300s"
      ],
      "metadata": {
        "id": "9G96vr2io_gQ"
      },
      "execution_count": null,
      "outputs": []
    },
    {
      "cell_type": "markdown",
      "source": [
        " It's helpful to follow the link in the deployment output to monitor and/or debug your Cloud Run function.  In particular, see the metrics and logs tabs to help resolve perfpormance issues."
      ],
      "metadata": {
        "id": "8YaUZnYqo8OK"
      }
    },
    {
      "cell_type": "markdown",
      "source": [
        "## Test the deployed Cloud Function\n",
        "\n"
      ],
      "metadata": {
        "id": "ORIfMTYTp-XC"
      }
    },
    {
      "cell_type": "markdown",
      "source": [
        "Make a test request out of the WHISP sample data geometries."
      ],
      "metadata": {
        "id": "FQdOsf3Kqn3I"
      }
    },
    {
      "cell_type": "code",
      "source": [
        "# test_calls = [[json.dumps(g), 'foo_string', 'bar_string'] for g in geoms]\n",
        "test_calls = [[json.dumps(g), 'foo_string'] for g in geoms]\n",
        "test_calls[:3]"
      ],
      "metadata": {
        "id": "KMRvo-8Bgsc7"
      },
      "execution_count": null,
      "outputs": []
    },
    {
      "cell_type": "markdown",
      "source": [
        "Create a formatted request."
      ],
      "metadata": {
        "id": "_5hPKl6jq1VQ"
      }
    },
    {
      "cell_type": "code",
      "source": [
        "test_request = json.dumps({'calls': test_calls}, separators=(',', ':')).join(\"''\")\n",
        "test_request"
      ],
      "metadata": {
        "id": "i01h0RTwqqXF"
      },
      "execution_count": null,
      "outputs": []
    },
    {
      "cell_type": "markdown",
      "source": [
        "Use curl to submit the test request. This might take a while."
      ],
      "metadata": {
        "id": "Qo1cRl_wrBpg"
      }
    },
    {
      "cell_type": "code",
      "source": [
        "responses = !curl -X POST https://{REGION}-{PROJECT}.cloudfunctions.net/suso_function \\\n",
        "  -H \"Authorization: bearer $(gcloud auth print-identity-token)\" \\\n",
        "  -H \"Content-Type: application/json\" \\\n",
        "  -d {test_request}"
      ],
      "metadata": {
        "id": "VTZqNgfRq2jV"
      },
      "execution_count": null,
      "outputs": []
    },
    {
      "cell_type": "markdown",
      "source": [
        "Inspect the output of the function."
      ],
      "metadata": {
        "id": "bTeBYf12rJkI"
      }
    },
    {
      "cell_type": "code",
      "source": [
        "response = responses[0]\n",
        "response_json = json.loads(response)\n",
        "replies_json = [json.loads(reply) for reply in response_json['replies']]\n",
        "reply_keys = replies_json[0].keys()\n",
        "\n",
        "print(f'{len(responses) = }')\n",
        "print(f'{len(replies_json) = }')\n",
        "print(f'{reply_keys = }')"
      ],
      "metadata": {
        "id": "rYv1u1qrrEI2"
      },
      "execution_count": null,
      "outputs": []
    },
    {
      "cell_type": "markdown",
      "source": [
        "Pretty print the replies."
      ],
      "metadata": {
        "id": "FrE4tZ-ZraDJ"
      }
    },
    {
      "cell_type": "code",
      "source": [
        "print(json.dumps(replies_json, indent=4))"
      ],
      "metadata": {
        "id": "WrlloZKBrOu5"
      },
      "execution_count": null,
      "outputs": []
    },
    {
      "cell_type": "code",
      "source": [],
      "metadata": {
        "id": "VuRp08v1uuxP"
      },
      "execution_count": null,
      "outputs": []
    }
  ],
  "metadata": {
    "colab": {
      "provenance": [],
      "toc_visible": true
    },
    "kernelspec": {
      "display_name": "default",
      "language": "python",
      "name": "python3"
    },
    "language_info": {
      "codemirror_mode": {
        "name": "ipython",
        "version": 3
      },
      "file_extension": ".py",
      "mimetype": "text/x-python",
      "name": "python",
      "nbconvert_exporter": "python",
      "pygments_lexer": "ipython3",
      "version": "3.11.13"
    }
  },
  "nbformat": 4,
  "nbformat_minor": 0
}